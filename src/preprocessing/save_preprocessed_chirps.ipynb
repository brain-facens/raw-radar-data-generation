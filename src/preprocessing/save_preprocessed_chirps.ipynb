{
 "cells": [
  {
   "cell_type": "code",
   "execution_count": 1,
   "id": "65d13a14-cac3-4f74-9b11-09b980017937",
   "metadata": {},
   "outputs": [],
   "source": [
    "import h5py\n",
    "import seaborn as sns\n",
    "import matplotlib.pyplot as plt\n",
    "import numpy as np\n",
    "from skimage.transform import resize, rescale\n",
    "import cv2\n",
    "from glob import glob\n",
    "\n",
    "sns.set_style('darkgrid')"
   ]
  },
  {
   "cell_type": "code",
   "execution_count": 2,
   "metadata": {},
   "outputs": [],
   "source": [
    "def plot_frame(frame):\n",
    "    times = [i for i in range(1024)]\n",
    "\n",
    "    plt.figure(figsize=(15, 10))\n",
    "\n",
    "    for channel_id in range(128):\n",
    "        plt.plot(times, frame[:, channel_id].flatten())\n",
    "\n",
    "    plt.grid(True)\n",
    "    plt.legend()\n",
    "    plt.show()"
   ]
  },
  {
   "cell_type": "code",
   "execution_count": 3,
   "metadata": {},
   "outputs": [],
   "source": [
    "FILE_NAME = 'EXP_17_N'"
   ]
  },
  {
   "cell_type": "code",
   "execution_count": 4,
   "id": "3758157a-6422-491d-8166-eb2829b29f3e",
   "metadata": {},
   "outputs": [],
   "source": [
    "def load_exps(exps_paths):\n",
    "    all_exps = []\n",
    "\n",
    "    for exp_path in exps_paths:\n",
    "        try:\n",
    "            file = h5py.File(exp_path, 'r')\n",
    "        except:\n",
    "            print(f'Couldnt load exp {exp_path}')\n",
    "            continue\n",
    "\n",
    "        exp = []\n",
    "        \n",
    "        for channel_id in range(1, 17):\n",
    "            channel = file[f'Chn{channel_id}'][128*3:-128*3]\n",
    "            exp.append(channel)\n",
    "        \n",
    "        exp = np.swapaxes(exp, 1, 0)\n",
    "\n",
    "        #for chirp in exp:\n",
    "        #    all_exps.append(chirp)\n",
    "\n",
    "        all_exps = all_exps + list(exp)\n",
    "    \n",
    "    all_exps = np.array(all_exps)\n",
    "    #all_exps = np.swapaxes(all_exps, 1, 0)\n",
    "    all_exps[:, :, 0] = 0\n",
    "    \n",
    "    return np.array(all_exps).astype(np.float32)\n",
    "        "
   ]
  },
  {
   "cell_type": "code",
   "execution_count": 9,
   "metadata": {},
   "outputs": [],
   "source": [
    "#raw_data = load_exps([f'../../data/real/{FILE_NAME}.h5'])\n",
    "raw_data = load_exps(glob('../../data/real/EXP_17_N.h5'))"
   ]
  },
  {
   "cell_type": "code",
   "execution_count": 10,
   "metadata": {},
   "outputs": [
    {
     "data": {
      "text/plain": [
       "(11264, 16, 1024)"
      ]
     },
     "execution_count": 10,
     "metadata": {},
     "output_type": "execute_result"
    }
   ],
   "source": [
    "raw_data.shape"
   ]
  },
  {
   "cell_type": "code",
   "execution_count": null,
   "metadata": {},
   "outputs": [],
   "source": [
    "np.save(f'../../data/preprocessed/{FILE_NAME}_chirps.npy', raw_data)"
   ]
  },
  {
   "cell_type": "code",
   "execution_count": null,
   "metadata": {},
   "outputs": [],
   "source": [
    "raw_data = np.swapaxes(raw_data, 2, 1)"
   ]
  },
  {
   "cell_type": "code",
   "execution_count": null,
   "metadata": {},
   "outputs": [
    {
     "data": {
      "text/plain": [
       "(52608, 1024, 16)"
      ]
     },
     "execution_count": 13,
     "metadata": {},
     "output_type": "execute_result"
    }
   ],
   "source": [
    "raw_data.shape"
   ]
  },
  {
   "cell_type": "code",
   "execution_count": null,
   "metadata": {},
   "outputs": [],
   "source": [
    "data_min = raw_data.min()\n",
    "data_max = raw_data.max()"
   ]
  },
  {
   "cell_type": "code",
   "execution_count": null,
   "metadata": {},
   "outputs": [],
   "source": [
    "a, b = -1, 1"
   ]
  },
  {
   "cell_type": "code",
   "execution_count": null,
   "metadata": {},
   "outputs": [],
   "source": [
    "np.subtract(raw_data, data_min, out=raw_data)\n",
    "np.multiply(raw_data, (b - a), out=raw_data)\n",
    "np.divide(raw_data, (data_max - data_min), out=raw_data)\n",
    "raw_data = np.add(raw_data, a, out=raw_data)"
   ]
  },
  {
   "cell_type": "code",
   "execution_count": null,
   "metadata": {},
   "outputs": [
    {
     "name": "stdout",
     "output_type": "stream",
     "text": [
      "-10648.0 4712.0\n"
     ]
    }
   ],
   "source": [
    "print(data_min, data_max)"
   ]
  },
  {
   "cell_type": "code",
   "execution_count": null,
   "metadata": {},
   "outputs": [],
   "source": [
    "np.save(f'../../data/preprocessed/{FILE_NAME}_chirps_scaled.npy', raw_data)"
   ]
  },
  {
   "cell_type": "code",
   "execution_count": null,
   "metadata": {},
   "outputs": [],
   "source": []
  }
 ],
 "metadata": {
  "interpreter": {
   "hash": "288c48c33377fde836cd8a6064e8478fc9e59fa3607510bf7f3a1e6c711c4497"
  },
  "kernelspec": {
   "display_name": "Python 3.8.12 ('rota2030')",
   "language": "python",
   "name": "python3"
  },
  "language_info": {
   "codemirror_mode": {
    "name": "ipython",
    "version": 3
   },
   "file_extension": ".py",
   "mimetype": "text/x-python",
   "name": "python",
   "nbconvert_exporter": "python",
   "pygments_lexer": "ipython3",
   "version": "3.8.12"
  },
  "orig_nbformat": 4
 },
 "nbformat": 4,
 "nbformat_minor": 2
}
