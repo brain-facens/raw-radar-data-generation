{
 "cells": [
  {
   "cell_type": "code",
   "execution_count": 1,
   "id": "65d13a14-cac3-4f74-9b11-09b980017937",
   "metadata": {},
   "outputs": [],
   "source": [
    "import h5py\n",
    "import matplotlib.pyplot as plt\n",
    "import numpy as np\n",
    "from glob import glob\n",
    "import pandas as pd\n",
    "import seaborn as sns\n",
    "\n",
    "#sns.set_style('darkgrid')"
   ]
  },
  {
   "cell_type": "code",
   "execution_count": 2,
   "metadata": {},
   "outputs": [],
   "source": [
    "def plot_frame(frame):\n",
    "    times = [i for i in range(1024)]\n",
    "\n",
    "    plt.figure(figsize=(15, 10))\n",
    "\n",
    "    for channel_id in range(128):\n",
    "        plt.plot(times, frame[:, channel_id].flatten())\n",
    "\n",
    "    plt.grid(True)\n",
    "    plt.legend()\n",
    "    plt.show()"
   ]
  },
  {
   "cell_type": "markdown",
   "metadata": {},
   "source": [
    "# Loading"
   ]
  },
  {
   "cell_type": "code",
   "execution_count": 3,
   "id": "3758157a-6422-491d-8166-eb2829b29f3e",
   "metadata": {},
   "outputs": [],
   "source": [
    "from calendar import c\n",
    "\n",
    "\n",
    "def load_exps_and_labels(detections):\n",
    "    all_exps, all_labels = [], []\n",
    "\n",
    "    counter = 0\n",
    "\n",
    "    for exp_name, data in detections.groupby('Exp'):\n",
    "        counter += 1\n",
    "\n",
    "        try:\n",
    "            file = h5py.File(f'../../data/real/{exp_name}.h5', 'r')\n",
    "        except:\n",
    "            print(f'Couldnt load exp {exp_name}')\n",
    "            continue\n",
    "\n",
    "        exp = []\n",
    "        \n",
    "        channel = file[f'Chn{8}']\n",
    "        exp = channel\n",
    "\n",
    "        chirps_ids = []\n",
    "\n",
    "        for _, (frame_id, depth) in data[['Frame', 'Depth']].iterrows():\n",
    "            chirps_ids = list(np.linspace(frame_id*127, frame_id*128+127, 128, dtype=np.uint16))\n",
    "            all_labels.append(list(np.repeat(depth, 128)))\n",
    "            all_exps.append(exp[chirps_ids])\n",
    "\n",
    "        #if counter > 2:\n",
    "        #    break\n",
    "    \n",
    "    all_exps = np.array(all_exps)\n",
    "    all_labels = np.array([all_labels]).T\n",
    "    #all_exps = np.swapaxes(all_exps, 1, 0)\n",
    "    all_exps[:, :, :50] = 0\n",
    "    \n",
    "    return all_exps.astype(np.float32), all_labels.astype(np.float32)\n",
    "        "
   ]
  },
  {
   "cell_type": "code",
   "execution_count": 4,
   "metadata": {},
   "outputs": [],
   "source": [
    "FILE_NAME = 'EXP_17_all'"
   ]
  },
  {
   "cell_type": "code",
   "execution_count": 5,
   "metadata": {},
   "outputs": [],
   "source": [
    "all_detections = pd.read_csv('../../data/real/TABULAR_CSV_ALL_CLASSES.csv')"
   ]
  },
  {
   "cell_type": "code",
   "execution_count": 6,
   "metadata": {},
   "outputs": [],
   "source": [
    "detections = all_detections[all_detections['Exp'].str.contains('EXP_17_')].query('Class == \"Motorcycle\" and Depth <= 25')"
   ]
  },
  {
   "cell_type": "code",
   "execution_count": 7,
   "metadata": {},
   "outputs": [
    {
     "data": {
      "text/plain": [
       "array(['EXP_17_C', 'EXP_17_D', 'EXP_17_E', 'EXP_17_F', 'EXP_17_S',\n",
       "       'EXP_17_T', 'EXP_17_L', 'EXP_17_B', 'EXP_17_I', 'EXP_17_O',\n",
       "       'EXP_17_G', 'EXP_17_M', 'EXP_17_P', 'EXP_17_R', 'EXP_17_H',\n",
       "       'EXP_17_Q'], dtype=object)"
      ]
     },
     "execution_count": 7,
     "metadata": {},
     "output_type": "execute_result"
    }
   ],
   "source": [
    "pd.unique(detections['Exp'])"
   ]
  },
  {
   "cell_type": "code",
   "execution_count": 8,
   "metadata": {},
   "outputs": [],
   "source": [
    "#raw_data = load_exps([f'../../data/real/{FILE_NAME}.h5'])\n",
    "raw_data, labels = load_exps_and_labels(detections)"
   ]
  },
  {
   "cell_type": "code",
   "execution_count": 9,
   "metadata": {},
   "outputs": [
    {
     "data": {
      "text/plain": [
       "(128, 790, 1)"
      ]
     },
     "execution_count": 9,
     "metadata": {},
     "output_type": "execute_result"
    }
   ],
   "source": [
    "labels.shape"
   ]
  },
  {
   "cell_type": "code",
   "execution_count": 10,
   "metadata": {},
   "outputs": [
    {
     "data": {
      "text/plain": [
       "(790, 128, 1024, 1)"
      ]
     },
     "execution_count": 10,
     "metadata": {},
     "output_type": "execute_result"
    }
   ],
   "source": [
    "raw_data = np.expand_dims(raw_data, axis=3)\n",
    "raw_data.shape"
   ]
  },
  {
   "cell_type": "code",
   "execution_count": 11,
   "metadata": {},
   "outputs": [],
   "source": [
    "np.save(f'../../data/preprocessed/{FILE_NAME}_sequentialone2.npy', raw_data)"
   ]
  },
  {
   "cell_type": "code",
   "execution_count": 12,
   "metadata": {},
   "outputs": [
    {
     "data": {
      "text/plain": [
       "(790, 128, 1024, 1)"
      ]
     },
     "execution_count": 12,
     "metadata": {},
     "output_type": "execute_result"
    }
   ],
   "source": [
    "raw_data.shape"
   ]
  },
  {
   "cell_type": "markdown",
   "metadata": {},
   "source": [
    "# Scale"
   ]
  },
  {
   "cell_type": "markdown",
   "metadata": {},
   "source": [
    "## Data Scale"
   ]
  },
  {
   "cell_type": "code",
   "execution_count": 13,
   "metadata": {},
   "outputs": [],
   "source": [
    "data_min = raw_data.min()\n",
    "data_max = raw_data.max()"
   ]
  },
  {
   "cell_type": "code",
   "execution_count": 14,
   "metadata": {},
   "outputs": [
    {
     "name": "stdout",
     "output_type": "stream",
     "text": [
      "Min: -2444.0, Max: 2544.0\n"
     ]
    }
   ],
   "source": [
    "print(f'Min: {data_min}, Max: {data_max}')"
   ]
  },
  {
   "cell_type": "code",
   "execution_count": 15,
   "metadata": {},
   "outputs": [],
   "source": [
    "a, b = -1, 1"
   ]
  },
  {
   "cell_type": "code",
   "execution_count": 16,
   "metadata": {},
   "outputs": [],
   "source": [
    "np.subtract(raw_data, data_min, out=raw_data)\n",
    "np.multiply(raw_data, (b - a), out=raw_data)\n",
    "np.divide(raw_data, (data_max - data_min), out=raw_data)\n",
    "raw_data = np.add(raw_data, a, out=raw_data)"
   ]
  },
  {
   "cell_type": "markdown",
   "metadata": {},
   "source": [
    "## Label Scale"
   ]
  },
  {
   "cell_type": "markdown",
   "metadata": {},
   "source": [
    "### Label Generator Scale"
   ]
  },
  {
   "cell_type": "code",
   "execution_count": 17,
   "metadata": {},
   "outputs": [],
   "source": [
    "labels_mean = labels.mean()\n",
    "labels_std = labels.std()"
   ]
  },
  {
   "cell_type": "code",
   "execution_count": 18,
   "metadata": {},
   "outputs": [
    {
     "name": "stdout",
     "output_type": "stream",
     "text": [
      "Mean: 12.902271270751953, Std: 6.502640724182129\n"
     ]
    }
   ],
   "source": [
    "print(f'Mean: {labels_mean}, Std: {labels_std}')"
   ]
  },
  {
   "cell_type": "code",
   "execution_count": 19,
   "metadata": {},
   "outputs": [],
   "source": [
    "labels_generator = (labels - labels_mean) / labels_std"
   ]
  },
  {
   "cell_type": "markdown",
   "metadata": {},
   "source": [
    "### Label Discriminator Scale"
   ]
  },
  {
   "cell_type": "code",
   "execution_count": 20,
   "metadata": {},
   "outputs": [],
   "source": [
    "labels_min = labels.min()\n",
    "labels_max = labels.max()"
   ]
  },
  {
   "cell_type": "code",
   "execution_count": 21,
   "metadata": {},
   "outputs": [],
   "source": [
    "labels_discriminator = a + ((labels - labels_min)*(b-a)) / (labels_max - labels_min)"
   ]
  },
  {
   "cell_type": "markdown",
   "metadata": {},
   "source": [
    "# Save"
   ]
  },
  {
   "cell_type": "code",
   "execution_count": 22,
   "metadata": {},
   "outputs": [],
   "source": [
    "np.save(f'../../data/preprocessed/{FILE_NAME}_sequentialone2_scaled.npy', raw_data)\n",
    "np.save(f'../../data/preprocessed/{FILE_NAME}_sequentialone2_labels.npy', (labels_generator, labels_discriminator))"
   ]
  },
  {
   "cell_type": "markdown",
   "metadata": {},
   "source": [
    "# Plots"
   ]
  },
  {
   "cell_type": "code",
   "execution_count": 24,
   "metadata": {},
   "outputs": [
    {
     "data": {
      "text/plain": [
       "0.05235101"
      ]
     },
     "execution_count": 24,
     "metadata": {},
     "output_type": "execute_result"
    }
   ],
   "source": [
    "raw_data.mean()"
   ]
  },
  {
   "cell_type": "code",
   "execution_count": 23,
   "metadata": {},
   "outputs": [
    {
     "name": "stderr",
     "output_type": "stream",
     "text": [
      "/home/eduardo/anaconda3/envs/rota2030/lib/python3.8/site-packages/seaborn/_decorators.py:36: FutureWarning: Pass the following variable as a keyword arg: x. From version 0.12, the only valid positional argument will be `data`, and passing other arguments without an explicit keyword will result in an error or misinterpretation.\n",
      "  warnings.warn(\n"
     ]
    },
    {
     "data": {
      "image/png": "[encoded data removed]",
      "text/plain": [
       "<Figure size 432x288 with 1 Axes>"
      ]
     },
     "metadata": {
      "needs_background": "light"
     },
     "output_type": "display_data"
    },
    {
     "data": {
      "text/plain": [
       "<Figure size 720x720 with 0 Axes>"
      ]
     },
     "metadata": {},
     "output_type": "display_data"
    }
   ],
   "source": [
    "import seaborn as sns\n",
    "\n",
    "sns.boxplot(raw_data.flatten())\n",
    "plt.figure(figsize=(10, 10))\n",
    "plt.show()"
   ]
  }
 ],
 "metadata": {
  "interpreter": {
   "hash": "288c48c33377fde836cd8a6064e8478fc9e59fa3607510bf7f3a1e6c711c4497"
  },
  "kernelspec": {
   "display_name": "Python 3.8.12 ('rota2030')",
   "language": "python",
   "name": "python3"
  },
  "language_info": {
   "codemirror_mode": {
    "name": "ipython",
    "version": 3
   },
   "file_extension": ".py",
   "mimetype": "text/x-python",
   "name": "python",
   "nbconvert_exporter": "python",
   "pygments_lexer": "ipython3",
   "version": "3.8.12"
  },
  "orig_nbformat": 4
 },
 "nbformat": 4,
 "nbformat_minor": 2
}
