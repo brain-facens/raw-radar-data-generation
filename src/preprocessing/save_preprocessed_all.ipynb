{
 "cells": [
  {
   "cell_type": "code",
   "execution_count": 14,
   "metadata": {},
   "outputs": [],
   "source": [
    "import numpy as np\n",
    "import matplotlib.pyplot as plt\n",
    "from glob import glob\n",
    "import h5py"
   ]
  },
  {
   "cell_type": "markdown",
   "metadata": {},
   "source": [
    "# Load Data"
   ]
  },
  {
   "cell_type": "code",
   "execution_count": 15,
   "metadata": {},
   "outputs": [],
   "source": [
    "exps_paths = glob('../../data/real/EXP_17/EXP_17_*.h5')[:10]"
   ]
  },
  {
   "cell_type": "code",
   "execution_count": 16,
   "metadata": {},
   "outputs": [],
   "source": [
    "def load_exps(exps_paths):\n",
    "    all_exps = []\n",
    "\n",
    "    for exp_path in exps_paths:\n",
    "        try:\n",
    "            file = h5py.File(exp_path, 'r')\n",
    "        except:\n",
    "            print(f'Couldnt load exp {exp_path}')\n",
    "            continue\n",
    "        \n",
    "        exp = []\n",
    "\n",
    "        for channel_id in range(1, 17):\n",
    "            channel = file[f'Chn{channel_id}'][128*3:-128*3]\n",
    "            channel = np.split(channel, len(channel)/128)\n",
    "            exp.append(channel)\n",
    "\n",
    "        exp = np.swapaxes(exp, 1, 0)\n",
    "\n",
    "        #for chirp in exp:\n",
    "        #    all_exps.append(chirp)\n",
    "\n",
    "        all_exps = all_exps + list(exp)\n",
    "    \n",
    "    all_exps = np.array(all_exps)\n",
    "    all_exps[:, :, :, 0] = 0\n",
    "    \n",
    "    return np.array(all_exps).astype(np.float32)\n",
    "        "
   ]
  },
  {
   "cell_type": "code",
   "execution_count": 17,
   "metadata": {},
   "outputs": [],
   "source": [
    "all_exps = load_exps(exps_paths)"
   ]
  },
  {
   "cell_type": "code",
   "execution_count": 18,
   "metadata": {},
   "outputs": [
    {
     "data": {
      "text/plain": [
       "(1113, 16, 128, 1024)"
      ]
     },
     "execution_count": 18,
     "metadata": {},
     "output_type": "execute_result"
    }
   ],
   "source": [
    "all_exps.shape"
   ]
  },
  {
   "cell_type": "code",
   "execution_count": 19,
   "metadata": {},
   "outputs": [],
   "source": [
    "np.save('../../data/preprocessed/EXP_17_all.npy', all_exps)"
   ]
  },
  {
   "cell_type": "code",
   "execution_count": 20,
   "metadata": {},
   "outputs": [],
   "source": [
    "data_min = all_exps.min()\n",
    "data_max = all_exps.max()"
   ]
  },
  {
   "cell_type": "code",
   "execution_count": 21,
   "metadata": {},
   "outputs": [],
   "source": [
    "a, b = -1, 1"
   ]
  },
  {
   "cell_type": "code",
   "execution_count": 22,
   "metadata": {},
   "outputs": [],
   "source": [
    "np.subtract(all_exps, data_min, out=all_exps)\n",
    "np.multiply(all_exps, (b - a), out=all_exps)\n",
    "np.divide(all_exps, (data_max - data_min), out=all_exps)\n",
    "all_exps = np.add(all_exps, a, out=all_exps)"
   ]
  },
  {
   "cell_type": "code",
   "execution_count": 23,
   "metadata": {},
   "outputs": [],
   "source": [
    "all_exps = np.swapaxes(all_exps, 1, 3)\n",
    "all_exps = np.swapaxes(all_exps, 1, 2)"
   ]
  },
  {
   "cell_type": "code",
   "execution_count": 24,
   "metadata": {},
   "outputs": [
    {
     "data": {
      "text/plain": [
       "(1113, 128, 1024, 16)"
      ]
     },
     "execution_count": 24,
     "metadata": {},
     "output_type": "execute_result"
    }
   ],
   "source": [
    "all_exps.shape"
   ]
  },
  {
   "cell_type": "code",
   "execution_count": 25,
   "metadata": {},
   "outputs": [],
   "source": [
    "#all_exps = np.random.shuffle(all_exps)"
   ]
  },
  {
   "cell_type": "code",
   "execution_count": 26,
   "metadata": {},
   "outputs": [],
   "source": [
    "np.save('../../data/preprocessed/EXP_17_all_scaled.npy', all_exps)"
   ]
  }
 ],
 "metadata": {
  "interpreter": {
   "hash": "2ded5a5babae51b175757fe272701efe78ac76aa22c1ca16be4bc7c4de0b8102"
  },
  "kernelspec": {
   "display_name": "Python 3.9.12 ('base')",
   "language": "python",
   "name": "python3"
  },
  "language_info": {
   "codemirror_mode": {
    "name": "ipython",
    "version": 3
   },
   "file_extension": ".py",
   "mimetype": "text/x-python",
   "name": "python",
   "nbconvert_exporter": "python",
   "pygments_lexer": "ipython3",
   "version": "3.9.12"
  },
  "orig_nbformat": 4,
  "vscode": {
   "interpreter": {
    "hash": "288c48c33377fde836cd8a6064e8478fc9e59fa3607510bf7f3a1e6c711c4497"
   }
  }
 },
 "nbformat": 4,
 "nbformat_minor": 2
}
